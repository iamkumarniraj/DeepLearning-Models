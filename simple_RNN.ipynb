{
  "nbformat": 4,
  "nbformat_minor": 0,
  "metadata": {
    "colab": {
      "provenance": [],
      "authorship_tag": "ABX9TyNX1xQ8b8Wu8sgfrjoDAWCu",
      "include_colab_link": true
    },
    "kernelspec": {
      "name": "python3",
      "display_name": "Python 3"
    },
    "language_info": {
      "name": "python"
    }
  },
  "cells": [
    {
      "cell_type": "markdown",
      "metadata": {
        "id": "view-in-github",
        "colab_type": "text"
      },
      "source": [
        "<a href=\"https://colab.research.google.com/github/iamkumarniraj/DeepLearning-Models/blob/main/simple_RNN.ipynb\" target=\"_parent\"><img src=\"https://colab.research.google.com/assets/colab-badge.svg\" alt=\"Open In Colab\"/></a>"
      ]
    },
    {
      "cell_type": "code",
      "execution_count": null,
      "metadata": {
        "id": "PHvJQlFsI8dc"
      },
      "outputs": [],
      "source": [
        "from keras.layers import LSTM, Dense\n",
        "from keras.callbacks import LearningRateScheduler\n",
        "from keras.datasets import cifar10\n",
        "from keras.models import Sequential\n",
        "from keras.layers import Flatten, Conv2D, MaxPooling2D\n",
        "from keras.optimizers import Adam"
      ]
    },
    {
      "cell_type": "code",
      "source": [
        " # Define the model architecture\n",
        "model = Sequential()\n",
        "model.add(LSTM(units=64, input_shape=(10, 1)))\n",
        "model.add(Dense(units=1))"
      ],
      "metadata": {
        "id": "rht9_MtZEzJb"
      },
      "execution_count": null,
      "outputs": []
    },
    {
      "cell_type": "code",
      "source": [
        "# Compile the model\n",
        "model.compile(optimizer='adam', loss='mean_squared_error')"
      ],
      "metadata": {
        "id": "leMdOkVrE7we"
      },
      "execution_count": null,
      "outputs": []
    },
    {
      "cell_type": "code",
      "source": [
        "# Define learning rate scheduler callback\n",
        "lr_scheduler_callback = LearningRateScheduler(lr_schedule)"
      ],
      "metadata": {
        "id": "WUcxwlO5K8cQ"
      },
      "execution_count": null,
      "outputs": []
    },
    {
      "cell_type": "code",
      "source": [
        "# Generate some dummy data\n",
        "import numpy as np\n",
        "X = np.random.randn(100, 10, 1)\n",
        "y = np.random.randn(100, 1)"
      ],
      "metadata": {
        "id": "_UC6WB2CFAZf"
      },
      "execution_count": null,
      "outputs": []
    },
    {
      "cell_type": "code",
      "source": [
        "import pandas as pd\n",
        "# Convert X and y to pandas DataFrames\n",
        "X_df = pd.DataFrame(X.reshape(100, 10))  # Reshape X to be 2D\n",
        "y_df = pd.DataFrame(y, columns=['Target'])\n",
        "\n",
        "# Print the first few rows of each DataFrame\n",
        "X_df.head()\n",
        "#print(y_df.head())"
      ],
      "metadata": {
        "colab": {
          "base_uri": "https://localhost:8080/",
          "height": 206
        },
        "id": "T66ZbVz8FGus",
        "outputId": "7e2480de-ff5b-4cd1-8c12-6010e82fbff6"
      },
      "execution_count": null,
      "outputs": [
        {
          "output_type": "execute_result",
          "data": {
            "text/plain": [
              "          0         1         2         3         4         5         6  \\\n",
              "0  0.387161 -2.048089  1.148726  0.011980  0.065235  0.023819 -0.475581   \n",
              "1  0.822529 -0.026043  0.707336 -1.311918  1.264944  0.374192 -1.265378   \n",
              "2  0.126964 -0.397626 -1.428911  0.404611  0.564073  0.554532  0.772061   \n",
              "3 -0.769776  0.117827 -1.835458 -1.183320  0.045836  1.568110  1.567637   \n",
              "4 -0.328875  0.473070  0.272927 -0.592089 -0.322429  0.976350  0.466634   \n",
              "\n",
              "          7         8         9  \n",
              "0  0.893649  0.229283 -1.734523  \n",
              "1  1.775473 -1.712940  0.073696  \n",
              "2  2.063212  0.241859 -1.898391  \n",
              "3 -0.074299  1.035576 -1.162574  \n",
              "4  0.739047  0.093580  0.618840  "
            ],
            "text/html": [
              "\n",
              "  <div id=\"df-b1502283-860f-4308-974d-696e8ca5e0c0\">\n",
              "    <div class=\"colab-df-container\">\n",
              "      <div>\n",
              "<style scoped>\n",
              "    .dataframe tbody tr th:only-of-type {\n",
              "        vertical-align: middle;\n",
              "    }\n",
              "\n",
              "    .dataframe tbody tr th {\n",
              "        vertical-align: top;\n",
              "    }\n",
              "\n",
              "    .dataframe thead th {\n",
              "        text-align: right;\n",
              "    }\n",
              "</style>\n",
              "<table border=\"1\" class=\"dataframe\">\n",
              "  <thead>\n",
              "    <tr style=\"text-align: right;\">\n",
              "      <th></th>\n",
              "      <th>0</th>\n",
              "      <th>1</th>\n",
              "      <th>2</th>\n",
              "      <th>3</th>\n",
              "      <th>4</th>\n",
              "      <th>5</th>\n",
              "      <th>6</th>\n",
              "      <th>7</th>\n",
              "      <th>8</th>\n",
              "      <th>9</th>\n",
              "    </tr>\n",
              "  </thead>\n",
              "  <tbody>\n",
              "    <tr>\n",
              "      <th>0</th>\n",
              "      <td>0.387161</td>\n",
              "      <td>-2.048089</td>\n",
              "      <td>1.148726</td>\n",
              "      <td>0.011980</td>\n",
              "      <td>0.065235</td>\n",
              "      <td>0.023819</td>\n",
              "      <td>-0.475581</td>\n",
              "      <td>0.893649</td>\n",
              "      <td>0.229283</td>\n",
              "      <td>-1.734523</td>\n",
              "    </tr>\n",
              "    <tr>\n",
              "      <th>1</th>\n",
              "      <td>0.822529</td>\n",
              "      <td>-0.026043</td>\n",
              "      <td>0.707336</td>\n",
              "      <td>-1.311918</td>\n",
              "      <td>1.264944</td>\n",
              "      <td>0.374192</td>\n",
              "      <td>-1.265378</td>\n",
              "      <td>1.775473</td>\n",
              "      <td>-1.712940</td>\n",
              "      <td>0.073696</td>\n",
              "    </tr>\n",
              "    <tr>\n",
              "      <th>2</th>\n",
              "      <td>0.126964</td>\n",
              "      <td>-0.397626</td>\n",
              "      <td>-1.428911</td>\n",
              "      <td>0.404611</td>\n",
              "      <td>0.564073</td>\n",
              "      <td>0.554532</td>\n",
              "      <td>0.772061</td>\n",
              "      <td>2.063212</td>\n",
              "      <td>0.241859</td>\n",
              "      <td>-1.898391</td>\n",
              "    </tr>\n",
              "    <tr>\n",
              "      <th>3</th>\n",
              "      <td>-0.769776</td>\n",
              "      <td>0.117827</td>\n",
              "      <td>-1.835458</td>\n",
              "      <td>-1.183320</td>\n",
              "      <td>0.045836</td>\n",
              "      <td>1.568110</td>\n",
              "      <td>1.567637</td>\n",
              "      <td>-0.074299</td>\n",
              "      <td>1.035576</td>\n",
              "      <td>-1.162574</td>\n",
              "    </tr>\n",
              "    <tr>\n",
              "      <th>4</th>\n",
              "      <td>-0.328875</td>\n",
              "      <td>0.473070</td>\n",
              "      <td>0.272927</td>\n",
              "      <td>-0.592089</td>\n",
              "      <td>-0.322429</td>\n",
              "      <td>0.976350</td>\n",
              "      <td>0.466634</td>\n",
              "      <td>0.739047</td>\n",
              "      <td>0.093580</td>\n",
              "      <td>0.618840</td>\n",
              "    </tr>\n",
              "  </tbody>\n",
              "</table>\n",
              "</div>\n",
              "      <button class=\"colab-df-convert\" onclick=\"convertToInteractive('df-b1502283-860f-4308-974d-696e8ca5e0c0')\"\n",
              "              title=\"Convert this dataframe to an interactive table.\"\n",
              "              style=\"display:none;\">\n",
              "        \n",
              "  <svg xmlns=\"http://www.w3.org/2000/svg\" height=\"24px\"viewBox=\"0 0 24 24\"\n",
              "       width=\"24px\">\n",
              "    <path d=\"M0 0h24v24H0V0z\" fill=\"none\"/>\n",
              "    <path d=\"M18.56 5.44l.94 2.06.94-2.06 2.06-.94-2.06-.94-.94-2.06-.94 2.06-2.06.94zm-11 1L8.5 8.5l.94-2.06 2.06-.94-2.06-.94L8.5 2.5l-.94 2.06-2.06.94zm10 10l.94 2.06.94-2.06 2.06-.94-2.06-.94-.94-2.06-.94 2.06-2.06.94z\"/><path d=\"M17.41 7.96l-1.37-1.37c-.4-.4-.92-.59-1.43-.59-.52 0-1.04.2-1.43.59L10.3 9.45l-7.72 7.72c-.78.78-.78 2.05 0 2.83L4 21.41c.39.39.9.59 1.41.59.51 0 1.02-.2 1.41-.59l7.78-7.78 2.81-2.81c.8-.78.8-2.07 0-2.86zM5.41 20L4 18.59l7.72-7.72 1.47 1.35L5.41 20z\"/>\n",
              "  </svg>\n",
              "      </button>\n",
              "      \n",
              "  <style>\n",
              "    .colab-df-container {\n",
              "      display:flex;\n",
              "      flex-wrap:wrap;\n",
              "      gap: 12px;\n",
              "    }\n",
              "\n",
              "    .colab-df-convert {\n",
              "      background-color: #E8F0FE;\n",
              "      border: none;\n",
              "      border-radius: 50%;\n",
              "      cursor: pointer;\n",
              "      display: none;\n",
              "      fill: #1967D2;\n",
              "      height: 32px;\n",
              "      padding: 0 0 0 0;\n",
              "      width: 32px;\n",
              "    }\n",
              "\n",
              "    .colab-df-convert:hover {\n",
              "      background-color: #E2EBFA;\n",
              "      box-shadow: 0px 1px 2px rgba(60, 64, 67, 0.3), 0px 1px 3px 1px rgba(60, 64, 67, 0.15);\n",
              "      fill: #174EA6;\n",
              "    }\n",
              "\n",
              "    [theme=dark] .colab-df-convert {\n",
              "      background-color: #3B4455;\n",
              "      fill: #D2E3FC;\n",
              "    }\n",
              "\n",
              "    [theme=dark] .colab-df-convert:hover {\n",
              "      background-color: #434B5C;\n",
              "      box-shadow: 0px 1px 3px 1px rgba(0, 0, 0, 0.15);\n",
              "      filter: drop-shadow(0px 1px 2px rgba(0, 0, 0, 0.3));\n",
              "      fill: #FFFFFF;\n",
              "    }\n",
              "  </style>\n",
              "\n",
              "      <script>\n",
              "        const buttonEl =\n",
              "          document.querySelector('#df-b1502283-860f-4308-974d-696e8ca5e0c0 button.colab-df-convert');\n",
              "        buttonEl.style.display =\n",
              "          google.colab.kernel.accessAllowed ? 'block' : 'none';\n",
              "\n",
              "        async function convertToInteractive(key) {\n",
              "          const element = document.querySelector('#df-b1502283-860f-4308-974d-696e8ca5e0c0');\n",
              "          const dataTable =\n",
              "            await google.colab.kernel.invokeFunction('convertToInteractive',\n",
              "                                                     [key], {});\n",
              "          if (!dataTable) return;\n",
              "\n",
              "          const docLinkHtml = 'Like what you see? Visit the ' +\n",
              "            '<a target=\"_blank\" href=https://colab.research.google.com/notebooks/data_table.ipynb>data table notebook</a>'\n",
              "            + ' to learn more about interactive tables.';\n",
              "          element.innerHTML = '';\n",
              "          dataTable['output_type'] = 'display_data';\n",
              "          await google.colab.output.renderOutput(dataTable, element);\n",
              "          const docLink = document.createElement('div');\n",
              "          docLink.innerHTML = docLinkHtml;\n",
              "          element.appendChild(docLink);\n",
              "        }\n",
              "      </script>\n",
              "    </div>\n",
              "  </div>\n",
              "  "
            ]
          },
          "metadata": {},
          "execution_count": 8
        }
      ]
    },
    {
      "cell_type": "code",
      "source": [
        "# Train the model\n",
        "model.fit(X, y, epochs=10, batch_size=32)"
      ],
      "metadata": {
        "colab": {
          "base_uri": "https://localhost:8080/"
        },
        "id": "9oxX1F1VFK-E",
        "outputId": "1db7bc9e-76e5-4c15-b928-a5546a75fd86"
      },
      "execution_count": null,
      "outputs": [
        {
          "output_type": "stream",
          "name": "stdout",
          "text": [
            "Epoch 1/10\n",
            "4/4 [==============================] - 2s 10ms/step - loss: 0.9911\n",
            "Epoch 2/10\n",
            "4/4 [==============================] - 0s 14ms/step - loss: 0.9841\n",
            "Epoch 3/10\n",
            "4/4 [==============================] - 0s 14ms/step - loss: 0.9801\n",
            "Epoch 4/10\n",
            "4/4 [==============================] - 0s 12ms/step - loss: 0.9762\n",
            "Epoch 5/10\n",
            "4/4 [==============================] - 0s 13ms/step - loss: 0.9730\n",
            "Epoch 6/10\n",
            "4/4 [==============================] - 0s 12ms/step - loss: 0.9709\n",
            "Epoch 7/10\n",
            "4/4 [==============================] - 0s 11ms/step - loss: 0.9672\n",
            "Epoch 8/10\n",
            "4/4 [==============================] - 0s 12ms/step - loss: 0.9687\n",
            "Epoch 9/10\n",
            "4/4 [==============================] - 0s 12ms/step - loss: 0.9661\n",
            "Epoch 10/10\n",
            "4/4 [==============================] - 0s 14ms/step - loss: 0.9660\n"
          ]
        },
        {
          "output_type": "execute_result",
          "data": {
            "text/plain": [
              "<keras.callbacks.History at 0x7f930a8a8fa0>"
            ]
          },
          "metadata": {},
          "execution_count": 9
        }
      ]
    },
    {
      "cell_type": "code",
      "source": [
        "# Use the model to make predictions on new data\n",
        "X_new = np.random.randn(1, 10, 1)\n",
        "y_pred = model.predict(X_new)\n",
        "\n",
        "print(y_pred)"
      ],
      "metadata": {
        "colab": {
          "base_uri": "https://localhost:8080/"
        },
        "id": "gCCaMdpNF9YV",
        "outputId": "13d8d5e7-0ec7-4708-f279-ad7310bf46b1"
      },
      "execution_count": null,
      "outputs": [
        {
          "output_type": "stream",
          "name": "stdout",
          "text": [
            "1/1 [==============================] - 1s 908ms/step\n",
            "[[0.21097857]]\n"
          ]
        }
      ]
    },
    {
      "cell_type": "code",
      "source": [],
      "metadata": {
        "id": "uXU0avJDGQ3A"
      },
      "execution_count": null,
      "outputs": []
    },
    {
      "cell_type": "markdown",
      "source": [
        "**Computer vision using Deep Learning **"
      ],
      "metadata": {
        "id": "lwMWQYgtHhkS"
      }
    },
    {
      "cell_type": "code",
      "source": [
        "import tensorflow as tf\n",
        "from tensorflow import keras\n",
        "from tensorflow.keras.datasets import mnist\n",
        "from tensorflow.keras.layers import Conv2D, MaxPooling2D, Dropout, Flatten, Dense\n",
        "from tensorflow.keras.models import Sequential"
      ],
      "metadata": {
        "id": "JPCqycNmHkcQ"
      },
      "execution_count": null,
      "outputs": []
    },
    {
      "cell_type": "code",
      "source": [
        "# Loading the dataset\n",
        "(x_train, y_train), (x_test, y_test) = mnist.load_data()"
      ],
      "metadata": {
        "id": "7QuUqNtkHtbU"
      },
      "execution_count": null,
      "outputs": []
    },
    {
      "cell_type": "code",
      "source": [
        "# Normalizing the data\n",
        "x_train = x_train.astype('float32') / 255\n",
        "x_test = x_test.astype('float32') / 255"
      ],
      "metadata": {
        "id": "Cm81YYB1HyxQ"
      },
      "execution_count": null,
      "outputs": []
    },
    {
      "cell_type": "code",
      "source": [
        "# Reshaping the data to be compatible with the input layer of the model\n",
        "x_train = x_train.reshape(x_train.shape[0], 28, 28, 1)\n",
        "x_test = x_test.reshape(x_test.shape[0], 28, 28, 1)"
      ],
      "metadata": {
        "id": "WCLQlyxxH4-s"
      },
      "execution_count": null,
      "outputs": []
    },
    {
      "cell_type": "code",
      "source": [
        "# Define the model\n",
        "model = Sequential()\n",
        "model.add(Conv2D(32, (3, 3), activation='relu', input_shape=(28, 28, 1)))\n",
        "model.add(MaxPooling2D((2, 2)))\n",
        "model.add(Conv2D(64, (3, 3), activation='relu'))\n",
        "model.add(MaxPooling2D((2, 2)))\n",
        "model.add(Conv2D(64, (3, 3), activation='relu'))\n",
        "model.add(Flatten())\n",
        "model.add(Dense(64, activation='relu'))\n",
        "model.add(Dropout(0.5))\n",
        "model.add(Dense(10, activation='softmax'))"
      ],
      "metadata": {
        "id": "ANs2oXKMH-ei"
      },
      "execution_count": null,
      "outputs": []
    },
    {
      "cell_type": "code",
      "source": [
        "# Compiling the model\n",
        "model.compile(optimizer='adam',\n",
        "              loss='sparse_categorical_crossentropy',\n",
        "              metrics=['accuracy'])"
      ],
      "metadata": {
        "id": "By3qMwUsIJ_7"
      },
      "execution_count": null,
      "outputs": []
    },
    {
      "cell_type": "code",
      "source": [
        "# Training the model\n",
        "model.fit(x_train, y_train, epochs=5, validation_data=(x_test, y_test))"
      ],
      "metadata": {
        "colab": {
          "base_uri": "https://localhost:8080/"
        },
        "id": "G9aEUdHQIO_-",
        "outputId": "28edbb66-8579-44a5-a93d-079239a43679"
      },
      "execution_count": null,
      "outputs": [
        {
          "output_type": "stream",
          "name": "stdout",
          "text": [
            "Epoch 1/5\n",
            "1875/1875 [==============================] - 50s 26ms/step - loss: 0.2516 - accuracy: 0.9238 - val_loss: 0.0428 - val_accuracy: 0.9865\n",
            "Epoch 2/5\n",
            "1875/1875 [==============================] - 46s 25ms/step - loss: 0.0835 - accuracy: 0.9763 - val_loss: 0.0369 - val_accuracy: 0.9899\n",
            "Epoch 3/5\n",
            "1875/1875 [==============================] - 45s 24ms/step - loss: 0.0621 - accuracy: 0.9831 - val_loss: 0.0294 - val_accuracy: 0.9906\n",
            "Epoch 4/5\n",
            "1875/1875 [==============================] - 45s 24ms/step - loss: 0.0470 - accuracy: 0.9871 - val_loss: 0.0301 - val_accuracy: 0.9900\n",
            "Epoch 5/5\n",
            "1875/1875 [==============================] - 45s 24ms/step - loss: 0.0408 - accuracy: 0.9883 - val_loss: 0.0258 - val_accuracy: 0.9925\n"
          ]
        },
        {
          "output_type": "execute_result",
          "data": {
            "text/plain": [
              "<keras.callbacks.History at 0x7f23c8ed7bb0>"
            ]
          },
          "metadata": {},
          "execution_count": 8
        }
      ]
    },
    {
      "cell_type": "code",
      "source": [
        "# Evaluate the model\n",
        "test_loss, test_acc = model.evaluate(x_test, y_test)\n",
        "print('Test accuracy:', test_acc)"
      ],
      "metadata": {
        "colab": {
          "base_uri": "https://localhost:8080/"
        },
        "id": "IUWGyBuFIU0e",
        "outputId": "992285e0-cb52-4408-aaf9-a94cf5ad8604"
      },
      "execution_count": null,
      "outputs": [
        {
          "output_type": "stream",
          "name": "stdout",
          "text": [
            "313/313 [==============================] - 2s 8ms/step - loss: 0.0258 - accuracy: 0.9925\n",
            "Test accuracy: 0.9925000071525574\n"
          ]
        }
      ]
    },
    {
      "cell_type": "code",
      "source": [],
      "metadata": {
        "id": "pF8qHJUkKEgw"
      },
      "execution_count": null,
      "outputs": []
    }
  ]
}