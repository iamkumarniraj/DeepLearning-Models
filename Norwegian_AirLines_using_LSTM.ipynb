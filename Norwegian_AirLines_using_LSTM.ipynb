{
  "nbformat": 4,
  "nbformat_minor": 0,
  "metadata": {
    "colab": {
      "provenance": [],
      "authorship_tag": "ABX9TyMD3zJZVjwu2PtQ2zc7OqvU"
    },
    "kernelspec": {
      "name": "python3",
      "display_name": "Python 3"
    },
    "language_info": {
      "name": "python"
    }
  },
  "cells": [
    {
      "cell_type": "code",
      "execution_count": 1,
      "metadata": {
        "id": "7Ifazlab2RNA"
      },
      "outputs": [],
      "source": [
        "import numpy as np  # mathematical operations on arrays and matrices\n",
        "import pandas as pd # data manipulation and analysis\n",
        "import seaborn as sns # data visualization and plotting\n",
        "import warnings \n",
        "warnings.filterwarnings(\"ignore\") # ignoring any warnings that may occur during the analysis\n",
        "from matplotlib import pyplot as plt # creating visualizations and plots\n",
        "%matplotlib inline \n",
        "# magic command for Jupyter Notebook that allows the plots to be displayed inline within the notebook.\n",
        "\n",
        "import pandas_datareader.data as web # accessing to various financial data sources\n",
        "import datetime as dt # providing classes and functions for working with dates and times \n",
        "import yfinance as yf # Python wrapper for the Yahoo Finance API\n",
        "\n",
        "from sklearn.preprocessing import MinMaxScaler # performing feature scaling to normalize the data between 0 and 1\n",
        "from tensorflow.keras.models import Sequential # defining a linear stack of layers for building a neural network model\n",
        "from tensorflow.keras.layers import LSTM, Dense # representing specific types of layers (LSTM and dense, respectively) used in the neural network architecture."
      ]
    },
    {
      "cell_type": "code",
      "source": [
        "ticker = yf.Ticker('NAS.OL').info\n",
        "market_price = ticker['ask']\n",
        "previous_close_price = ticker['regularMarketPreviousClose']\n",
        "print('Ticker: NAS.OL')\n",
        "print('Market price:', market_price)\n",
        "print('Previous close price:', previous_close_price)"
      ],
      "metadata": {
        "colab": {
          "base_uri": "https://localhost:8080/"
        },
        "id": "AgGJ3-NF2Vnz",
        "outputId": "c05cdf73-e174-4533-a82d-5a3634626cfb"
      },
      "execution_count": 2,
      "outputs": [
        {
          "output_type": "stream",
          "name": "stdout",
          "text": [
            "Ticker: NAS.OL\n",
            "Market price: 12.265\n",
            "Previous close price: 11.88\n"
          ]
        }
      ]
    },
    {
      "cell_type": "markdown",
      "source": [],
      "metadata": {
        "id": "GONgt-4ZeFxy"
      }
    },
    {
      "cell_type": "code",
      "source": [
        "# Setting the start and end date\n",
        "start_date = '2016-01-01'\n",
        "end_date = '2023-01-01'\n",
        "\n",
        "# Setting the ticker\n",
        "ticker = 'NAS.OL'\n",
        "# Getting the data using ticker for the mentioned dates\n",
        "norgeair = yf.download(ticker, start_date, end_date)"
      ],
      "metadata": {
        "colab": {
          "base_uri": "https://localhost:8080/"
        },
        "id": "TAKndf_S2eAf",
        "outputId": "bce80c1e-edee-4aae-a2e4-4b1a596048eb"
      },
      "execution_count": 3,
      "outputs": [
        {
          "output_type": "stream",
          "name": "stdout",
          "text": [
            "\r[*********************100%***********************]  1 of 1 completed\n"
          ]
        }
      ]
    },
    {
      "cell_type": "code",
      "source": [
        "# assigning the index values of the norgeair DataFrame to a new column named \"Date\"\n",
        "norgeair[\"Date\"] = norgeair.index\n",
        "norgeair = norgeair[[\"Date\", \"Open\", \"High\", \"Low\", \"Close\", \"Adj Close\", \"Volume\"]]\n",
        "# resetting the index of the DataFrame after making changes\n",
        "norgeair.reset_index(drop=True, inplace=True)"
      ],
      "metadata": {
        "id": "5_kpA8Bh2hzR"
      },
      "execution_count": 4,
      "outputs": []
    },
    {
      "cell_type": "code",
      "source": [
        "# Exporting data to a CSV file\n",
        "norgeair.to_csv(\"nas.csv\")"
      ],
      "metadata": {
        "id": "C77qY7LQ2mnO"
      },
      "execution_count": 5,
      "outputs": []
    },
    {
      "cell_type": "code",
      "source": [
        "# reading the data from the CSV file \"nas.csv\" into a pandas DataFrame called nas_df\n",
        "nas_df = pd.read_csv(\"nas.csv\", index_col='Date', parse_dates=True)\n",
        "# converting the index of the DataFrame nas_df to datetime format\n",
        "nas_df.index = pd.to_datetime(nas_df.index)\n",
        "# resampling the nas_df DataFrame at a monthly frequency ('MS') and calculates the mean of each month\n",
        "nas_monthly = nas_df.resample('MS').mean()"
      ],
      "metadata": {
        "id": "bCTMtlar2rEI"
      },
      "execution_count": 6,
      "outputs": []
    },
    {
      "cell_type": "code",
      "source": [
        "nas_monthly.drop(['Unnamed: 0'], axis=1, inplace= True)"
      ],
      "metadata": {
        "id": "nRjrucBv2ub2"
      },
      "execution_count": 7,
      "outputs": []
    },
    {
      "cell_type": "code",
      "source": [
        "# creating a dataframe called 'df' with only attribute 'close'\n",
        "df = nas_monthly[['Close']]"
      ],
      "metadata": {
        "id": "L5jX3_p_2xZq"
      },
      "execution_count": 8,
      "outputs": []
    },
    {
      "cell_type": "code",
      "source": [
        "df.info()"
      ],
      "metadata": {
        "colab": {
          "base_uri": "https://localhost:8080/"
        },
        "id": "-QaKCqjI21bP",
        "outputId": "fd9e5656-1991-4772-b62f-d9593129cce8"
      },
      "execution_count": 9,
      "outputs": [
        {
          "output_type": "stream",
          "name": "stdout",
          "text": [
            "<class 'pandas.core.frame.DataFrame'>\n",
            "DatetimeIndex: 84 entries, 2016-01-01 to 2022-12-01\n",
            "Freq: MS\n",
            "Data columns (total 1 columns):\n",
            " #   Column  Non-Null Count  Dtype  \n",
            "---  ------  --------------  -----  \n",
            " 0   Close   84 non-null     float64\n",
            "dtypes: float64(1)\n",
            "memory usage: 1.3 KB\n"
          ]
        }
      ]
    },
    {
      "cell_type": "code",
      "source": [
        "train = df.iloc[:70] # selecting the first 70 rows of the DataFrame df and assigns them to the variable train.\n",
        "test = df.iloc[70:] # selecting all rows starting from the 70th row until the end of the DataFrame df and assigns them to the variable test."
      ],
      "metadata": {
        "id": "6ZgzG1zy3b2_"
      },
      "execution_count": 10,
      "outputs": []
    },
    {
      "cell_type": "code",
      "source": [
        "# reading first few rows of the train \n",
        "train.head()"
      ],
      "metadata": {
        "colab": {
          "base_uri": "https://localhost:8080/",
          "height": 237
        },
        "id": "2kqLnwYC4anw",
        "outputId": "94dd8e2b-fe16-42d0-e54b-53f90d5fd595"
      },
      "execution_count": 11,
      "outputs": [
        {
          "output_type": "execute_result",
          "data": {
            "text/plain": [
              "                   Close\n",
              "Date                    \n",
              "2016-01-01  15696.631348\n",
              "2016-02-01  15259.055013\n",
              "2016-03-01  17635.749805\n",
              "2016-04-01  20183.437128\n",
              "2016-05-01  19992.590563"
            ],
            "text/html": [
              "\n",
              "  <div id=\"df-959ede2b-bcad-4331-bbdc-ea535560584d\">\n",
              "    <div class=\"colab-df-container\">\n",
              "      <div>\n",
              "<style scoped>\n",
              "    .dataframe tbody tr th:only-of-type {\n",
              "        vertical-align: middle;\n",
              "    }\n",
              "\n",
              "    .dataframe tbody tr th {\n",
              "        vertical-align: top;\n",
              "    }\n",
              "\n",
              "    .dataframe thead th {\n",
              "        text-align: right;\n",
              "    }\n",
              "</style>\n",
              "<table border=\"1\" class=\"dataframe\">\n",
              "  <thead>\n",
              "    <tr style=\"text-align: right;\">\n",
              "      <th></th>\n",
              "      <th>Close</th>\n",
              "    </tr>\n",
              "    <tr>\n",
              "      <th>Date</th>\n",
              "      <th></th>\n",
              "    </tr>\n",
              "  </thead>\n",
              "  <tbody>\n",
              "    <tr>\n",
              "      <th>2016-01-01</th>\n",
              "      <td>15696.631348</td>\n",
              "    </tr>\n",
              "    <tr>\n",
              "      <th>2016-02-01</th>\n",
              "      <td>15259.055013</td>\n",
              "    </tr>\n",
              "    <tr>\n",
              "      <th>2016-03-01</th>\n",
              "      <td>17635.749805</td>\n",
              "    </tr>\n",
              "    <tr>\n",
              "      <th>2016-04-01</th>\n",
              "      <td>20183.437128</td>\n",
              "    </tr>\n",
              "    <tr>\n",
              "      <th>2016-05-01</th>\n",
              "      <td>19992.590563</td>\n",
              "    </tr>\n",
              "  </tbody>\n",
              "</table>\n",
              "</div>\n",
              "      <button class=\"colab-df-convert\" onclick=\"convertToInteractive('df-959ede2b-bcad-4331-bbdc-ea535560584d')\"\n",
              "              title=\"Convert this dataframe to an interactive table.\"\n",
              "              style=\"display:none;\">\n",
              "        \n",
              "  <svg xmlns=\"http://www.w3.org/2000/svg\" height=\"24px\"viewBox=\"0 0 24 24\"\n",
              "       width=\"24px\">\n",
              "    <path d=\"M0 0h24v24H0V0z\" fill=\"none\"/>\n",
              "    <path d=\"M18.56 5.44l.94 2.06.94-2.06 2.06-.94-2.06-.94-.94-2.06-.94 2.06-2.06.94zm-11 1L8.5 8.5l.94-2.06 2.06-.94-2.06-.94L8.5 2.5l-.94 2.06-2.06.94zm10 10l.94 2.06.94-2.06 2.06-.94-2.06-.94-.94-2.06-.94 2.06-2.06.94z\"/><path d=\"M17.41 7.96l-1.37-1.37c-.4-.4-.92-.59-1.43-.59-.52 0-1.04.2-1.43.59L10.3 9.45l-7.72 7.72c-.78.78-.78 2.05 0 2.83L4 21.41c.39.39.9.59 1.41.59.51 0 1.02-.2 1.41-.59l7.78-7.78 2.81-2.81c.8-.78.8-2.07 0-2.86zM5.41 20L4 18.59l7.72-7.72 1.47 1.35L5.41 20z\"/>\n",
              "  </svg>\n",
              "      </button>\n",
              "      \n",
              "  <style>\n",
              "    .colab-df-container {\n",
              "      display:flex;\n",
              "      flex-wrap:wrap;\n",
              "      gap: 12px;\n",
              "    }\n",
              "\n",
              "    .colab-df-convert {\n",
              "      background-color: #E8F0FE;\n",
              "      border: none;\n",
              "      border-radius: 50%;\n",
              "      cursor: pointer;\n",
              "      display: none;\n",
              "      fill: #1967D2;\n",
              "      height: 32px;\n",
              "      padding: 0 0 0 0;\n",
              "      width: 32px;\n",
              "    }\n",
              "\n",
              "    .colab-df-convert:hover {\n",
              "      background-color: #E2EBFA;\n",
              "      box-shadow: 0px 1px 2px rgba(60, 64, 67, 0.3), 0px 1px 3px 1px rgba(60, 64, 67, 0.15);\n",
              "      fill: #174EA6;\n",
              "    }\n",
              "\n",
              "    [theme=dark] .colab-df-convert {\n",
              "      background-color: #3B4455;\n",
              "      fill: #D2E3FC;\n",
              "    }\n",
              "\n",
              "    [theme=dark] .colab-df-convert:hover {\n",
              "      background-color: #434B5C;\n",
              "      box-shadow: 0px 1px 3px 1px rgba(0, 0, 0, 0.15);\n",
              "      filter: drop-shadow(0px 1px 2px rgba(0, 0, 0, 0.3));\n",
              "      fill: #FFFFFF;\n",
              "    }\n",
              "  </style>\n",
              "\n",
              "      <script>\n",
              "        const buttonEl =\n",
              "          document.querySelector('#df-959ede2b-bcad-4331-bbdc-ea535560584d button.colab-df-convert');\n",
              "        buttonEl.style.display =\n",
              "          google.colab.kernel.accessAllowed ? 'block' : 'none';\n",
              "\n",
              "        async function convertToInteractive(key) {\n",
              "          const element = document.querySelector('#df-959ede2b-bcad-4331-bbdc-ea535560584d');\n",
              "          const dataTable =\n",
              "            await google.colab.kernel.invokeFunction('convertToInteractive',\n",
              "                                                     [key], {});\n",
              "          if (!dataTable) return;\n",
              "\n",
              "          const docLinkHtml = 'Like what you see? Visit the ' +\n",
              "            '<a target=\"_blank\" href=https://colab.research.google.com/notebooks/data_table.ipynb>data table notebook</a>'\n",
              "            + ' to learn more about interactive tables.';\n",
              "          element.innerHTML = '';\n",
              "          dataTable['output_type'] = 'display_data';\n",
              "          await google.colab.output.renderOutput(dataTable, element);\n",
              "          const docLink = document.createElement('div');\n",
              "          docLink.innerHTML = docLinkHtml;\n",
              "          element.appendChild(docLink);\n",
              "        }\n",
              "      </script>\n",
              "    </div>\n",
              "  </div>\n",
              "  "
            ]
          },
          "metadata": {},
          "execution_count": 11
        }
      ]
    },
    {
      "cell_type": "code",
      "source": [
        "# reading first few rows of the test\n",
        "test.head()"
      ],
      "metadata": {
        "colab": {
          "base_uri": "https://localhost:8080/",
          "height": 237
        },
        "id": "4yVz0PXzh5_E",
        "outputId": "f63fef28-a5e0-42fc-e5a5-a95dc1473fea"
      },
      "execution_count": 48,
      "outputs": [
        {
          "output_type": "execute_result",
          "data": {
            "text/plain": [
              "                Close\n",
              "Date                 \n",
              "2021-11-01  10.897182\n",
              "2021-12-01   9.827619\n",
              "2022-01-01  11.727810\n",
              "2022-02-01  12.210200\n",
              "2022-03-01  10.241870"
            ],
            "text/html": [
              "\n",
              "  <div id=\"df-e9317aea-a632-4cfc-9d0a-6ef46f9335dc\">\n",
              "    <div class=\"colab-df-container\">\n",
              "      <div>\n",
              "<style scoped>\n",
              "    .dataframe tbody tr th:only-of-type {\n",
              "        vertical-align: middle;\n",
              "    }\n",
              "\n",
              "    .dataframe tbody tr th {\n",
              "        vertical-align: top;\n",
              "    }\n",
              "\n",
              "    .dataframe thead th {\n",
              "        text-align: right;\n",
              "    }\n",
              "</style>\n",
              "<table border=\"1\" class=\"dataframe\">\n",
              "  <thead>\n",
              "    <tr style=\"text-align: right;\">\n",
              "      <th></th>\n",
              "      <th>Close</th>\n",
              "    </tr>\n",
              "    <tr>\n",
              "      <th>Date</th>\n",
              "      <th></th>\n",
              "    </tr>\n",
              "  </thead>\n",
              "  <tbody>\n",
              "    <tr>\n",
              "      <th>2021-11-01</th>\n",
              "      <td>10.897182</td>\n",
              "    </tr>\n",
              "    <tr>\n",
              "      <th>2021-12-01</th>\n",
              "      <td>9.827619</td>\n",
              "    </tr>\n",
              "    <tr>\n",
              "      <th>2022-01-01</th>\n",
              "      <td>11.727810</td>\n",
              "    </tr>\n",
              "    <tr>\n",
              "      <th>2022-02-01</th>\n",
              "      <td>12.210200</td>\n",
              "    </tr>\n",
              "    <tr>\n",
              "      <th>2022-03-01</th>\n",
              "      <td>10.241870</td>\n",
              "    </tr>\n",
              "  </tbody>\n",
              "</table>\n",
              "</div>\n",
              "      <button class=\"colab-df-convert\" onclick=\"convertToInteractive('df-e9317aea-a632-4cfc-9d0a-6ef46f9335dc')\"\n",
              "              title=\"Convert this dataframe to an interactive table.\"\n",
              "              style=\"display:none;\">\n",
              "        \n",
              "  <svg xmlns=\"http://www.w3.org/2000/svg\" height=\"24px\"viewBox=\"0 0 24 24\"\n",
              "       width=\"24px\">\n",
              "    <path d=\"M0 0h24v24H0V0z\" fill=\"none\"/>\n",
              "    <path d=\"M18.56 5.44l.94 2.06.94-2.06 2.06-.94-2.06-.94-.94-2.06-.94 2.06-2.06.94zm-11 1L8.5 8.5l.94-2.06 2.06-.94-2.06-.94L8.5 2.5l-.94 2.06-2.06.94zm10 10l.94 2.06.94-2.06 2.06-.94-2.06-.94-.94-2.06-.94 2.06-2.06.94z\"/><path d=\"M17.41 7.96l-1.37-1.37c-.4-.4-.92-.59-1.43-.59-.52 0-1.04.2-1.43.59L10.3 9.45l-7.72 7.72c-.78.78-.78 2.05 0 2.83L4 21.41c.39.39.9.59 1.41.59.51 0 1.02-.2 1.41-.59l7.78-7.78 2.81-2.81c.8-.78.8-2.07 0-2.86zM5.41 20L4 18.59l7.72-7.72 1.47 1.35L5.41 20z\"/>\n",
              "  </svg>\n",
              "      </button>\n",
              "      \n",
              "  <style>\n",
              "    .colab-df-container {\n",
              "      display:flex;\n",
              "      flex-wrap:wrap;\n",
              "      gap: 12px;\n",
              "    }\n",
              "\n",
              "    .colab-df-convert {\n",
              "      background-color: #E8F0FE;\n",
              "      border: none;\n",
              "      border-radius: 50%;\n",
              "      cursor: pointer;\n",
              "      display: none;\n",
              "      fill: #1967D2;\n",
              "      height: 32px;\n",
              "      padding: 0 0 0 0;\n",
              "      width: 32px;\n",
              "    }\n",
              "\n",
              "    .colab-df-convert:hover {\n",
              "      background-color: #E2EBFA;\n",
              "      box-shadow: 0px 1px 2px rgba(60, 64, 67, 0.3), 0px 1px 3px 1px rgba(60, 64, 67, 0.15);\n",
              "      fill: #174EA6;\n",
              "    }\n",
              "\n",
              "    [theme=dark] .colab-df-convert {\n",
              "      background-color: #3B4455;\n",
              "      fill: #D2E3FC;\n",
              "    }\n",
              "\n",
              "    [theme=dark] .colab-df-convert:hover {\n",
              "      background-color: #434B5C;\n",
              "      box-shadow: 0px 1px 3px 1px rgba(0, 0, 0, 0.15);\n",
              "      filter: drop-shadow(0px 1px 2px rgba(0, 0, 0, 0.3));\n",
              "      fill: #FFFFFF;\n",
              "    }\n",
              "  </style>\n",
              "\n",
              "      <script>\n",
              "        const buttonEl =\n",
              "          document.querySelector('#df-e9317aea-a632-4cfc-9d0a-6ef46f9335dc button.colab-df-convert');\n",
              "        buttonEl.style.display =\n",
              "          google.colab.kernel.accessAllowed ? 'block' : 'none';\n",
              "\n",
              "        async function convertToInteractive(key) {\n",
              "          const element = document.querySelector('#df-e9317aea-a632-4cfc-9d0a-6ef46f9335dc');\n",
              "          const dataTable =\n",
              "            await google.colab.kernel.invokeFunction('convertToInteractive',\n",
              "                                                     [key], {});\n",
              "          if (!dataTable) return;\n",
              "\n",
              "          const docLinkHtml = 'Like what you see? Visit the ' +\n",
              "            '<a target=\"_blank\" href=https://colab.research.google.com/notebooks/data_table.ipynb>data table notebook</a>'\n",
              "            + ' to learn more about interactive tables.';\n",
              "          element.innerHTML = '';\n",
              "          dataTable['output_type'] = 'display_data';\n",
              "          await google.colab.output.renderOutput(dataTable, element);\n",
              "          const docLink = document.createElement('div');\n",
              "          docLink.innerHTML = docLinkHtml;\n",
              "          element.appendChild(docLink);\n",
              "        }\n",
              "      </script>\n",
              "    </div>\n",
              "  </div>\n",
              "  "
            ]
          },
          "metadata": {},
          "execution_count": 48
        }
      ]
    },
    {
      "cell_type": "code",
      "source": [
        "scaler = MinMaxScaler() #  creating an instance of the MinMaxScaler class and assigns it to the variable scaler.\n",
        "scaler.fit(train) # fitting the scaler object to the data in the train variable, calculating the minimum and maximum values of the data.\n",
        "# transforming the data in the train variable using the scaling parameters, and assigns the scaled data to the variable scaled_train.\n",
        "scaled_train = scaler.transform(train) "
      ],
      "metadata": {
        "id": "hAnED9d83yhM"
      },
      "execution_count": 15,
      "outputs": []
    },
    {
      "cell_type": "code",
      "source": [
        "scaled_test = scaler.transform(test)"
      ],
      "metadata": {
        "id": "aTZnXbj1361G"
      },
      "execution_count": 16,
      "outputs": []
    },
    {
      "cell_type": "code",
      "source": [
        "scaled_train[:10]"
      ],
      "metadata": {
        "colab": {
          "base_uri": "https://localhost:8080/"
        },
        "id": "MVJoEkcU3-bi",
        "outputId": "12cc920c-68f6-43f7-a17d-adf6a9cf4582"
      },
      "execution_count": 17,
      "outputs": [
        {
          "output_type": "execute_result",
          "data": {
            "text/plain": [
              "array([[0.77759231],\n",
              "       [0.75590197],\n",
              "       [0.873713  ],\n",
              "       [1.        ],\n",
              "       [0.99053987],\n",
              "       [0.91892967],\n",
              "       [0.82794461],\n",
              "       [0.87548302],\n",
              "       [0.85193818],\n",
              "       [0.81110049]])"
            ]
          },
          "metadata": {},
          "execution_count": 17
        }
      ]
    },
    {
      "cell_type": "code",
      "source": [
        "scaled_test[:10]"
      ],
      "metadata": {
        "colab": {
          "base_uri": "https://localhost:8080/"
        },
        "id": "s4CEwFIj4ApT",
        "outputId": "f2038c02-6dd8-48a1-c9f9-ed48e81d2d97"
      },
      "execution_count": 18,
      "outputs": [
        {
          "output_type": "execute_result",
          "data": {
            "text/plain": [
              "array([[ 6.18939953e-05],\n",
              "       [ 8.87654869e-06],\n",
              "       [ 1.03067609e-04],\n",
              "       [ 1.26979354e-04],\n",
              "       [ 2.94106460e-05],\n",
              "       [ 1.00752803e-04],\n",
              "       [ 6.50499740e-05],\n",
              "       [-3.28208999e-06],\n",
              "       [-2.62657054e-05],\n",
              "       [-6.91286033e-06]])"
            ]
          },
          "metadata": {},
          "execution_count": 18
        }
      ]
    },
    {
      "cell_type": "code",
      "source": [
        "from keras.preprocessing.sequence import TimeseriesGenerator\n",
        "# We do the same thing, but now instead for 12 months\n",
        "n_input = 12 # This variable specifies the number of previous time steps to use as input to predict the next time step in the time series. \n",
        "# In this case, we are using 12 previous time steps.\n",
        "n_features = 1 # This variable specifies the number of features in the time series. \n",
        "# In this case, we have only one feature (i.e., univariate time series).\n",
        "generator = TimeseriesGenerator(scaled_train, scaled_train, length=n_input, batch_size=10)"
      ],
      "metadata": {
        "id": "FVufPIa-4oV4"
      },
      "execution_count": 19,
      "outputs": []
    },
    {
      "cell_type": "code",
      "source": [
        "# defining model\n",
        "from tensorflow.keras.optimizers import Adam\n",
        "model = Sequential()\n",
        "# LSTM layer with 100 units and ReLU activation function is added to the model, with input data with a shape of (n_input, n_features)\n",
        "model.add(LSTM(100, activation='relu', input_shape=(n_input, n_features))) \n",
        "# Two dense layers with 64 and 32 units, respectively, and ReLU activation functions are added to the model.\n",
        "model.add(Dense(64, activation='relu'))\n",
        "model.add(Dense(32, activation='relu'))\n",
        "# final dense layer with 1 unit is added, representing the output layer.\n",
        "model.add(Dense(1))\n",
        "#  model is compiled with the Adam optimizer using a learning rate of 0.001, mean squared error (MSE) loss function, and mean absolute error (MAE) metric.\n",
        "model.compile(optimizer=Adam(learning_rate=0.001), loss='mse', metrics=['mae'])"
      ],
      "metadata": {
        "id": "jrbJ0SKi4xdQ"
      },
      "execution_count": 20,
      "outputs": []
    },
    {
      "cell_type": "code",
      "source": [
        "# fitting the model\n",
        "model.fit(generator,epochs=75)"
      ],
      "metadata": {
        "colab": {
          "base_uri": "https://localhost:8080/"
        },
        "id": "5hDwNWyP44N1",
        "outputId": "dd2dd1cd-b887-415c-d05a-772fa386f8b5"
      },
      "execution_count": 21,
      "outputs": [
        {
          "output_type": "stream",
          "name": "stdout",
          "text": [
            "Epoch 1/75\n",
            "6/6 [==============================] - 5s 28ms/step - loss: 0.1301 - mae: 0.2619\n",
            "Epoch 2/75\n",
            "6/6 [==============================] - 0s 19ms/step - loss: 0.0570 - mae: 0.1825\n",
            "Epoch 3/75\n",
            "6/6 [==============================] - 0s 18ms/step - loss: 0.0315 - mae: 0.1579\n",
            "Epoch 4/75\n",
            "6/6 [==============================] - 0s 44ms/step - loss: 0.0211 - mae: 0.1282\n",
            "Epoch 5/75\n",
            "6/6 [==============================] - 0s 32ms/step - loss: 0.0233 - mae: 0.1337\n",
            "Epoch 6/75\n",
            "6/6 [==============================] - 0s 29ms/step - loss: 0.0122 - mae: 0.0889\n",
            "Epoch 7/75\n",
            "6/6 [==============================] - 0s 40ms/step - loss: 0.0119 - mae: 0.0873\n",
            "Epoch 8/75\n",
            "6/6 [==============================] - 0s 24ms/step - loss: 0.0112 - mae: 0.0726\n",
            "Epoch 9/75\n",
            "6/6 [==============================] - 0s 20ms/step - loss: 0.0097 - mae: 0.0653\n",
            "Epoch 10/75\n",
            "6/6 [==============================] - 0s 42ms/step - loss: 0.0115 - mae: 0.0709\n",
            "Epoch 11/75\n",
            "6/6 [==============================] - 0s 31ms/step - loss: 0.0082 - mae: 0.0621\n",
            "Epoch 12/75\n",
            "6/6 [==============================] - 0s 30ms/step - loss: 0.0096 - mae: 0.0643\n",
            "Epoch 13/75\n",
            "6/6 [==============================] - 0s 26ms/step - loss: 0.0078 - mae: 0.0574\n",
            "Epoch 14/75\n",
            "6/6 [==============================] - 0s 18ms/step - loss: 0.0089 - mae: 0.0640\n",
            "Epoch 15/75\n",
            "6/6 [==============================] - 0s 18ms/step - loss: 0.0086 - mae: 0.0623\n",
            "Epoch 16/75\n",
            "6/6 [==============================] - 0s 17ms/step - loss: 0.0100 - mae: 0.0655\n",
            "Epoch 17/75\n",
            "6/6 [==============================] - 0s 22ms/step - loss: 0.0079 - mae: 0.0579\n",
            "Epoch 18/75\n",
            "6/6 [==============================] - 0s 41ms/step - loss: 0.0103 - mae: 0.0704\n",
            "Epoch 19/75\n",
            "6/6 [==============================] - 0s 24ms/step - loss: 0.0082 - mae: 0.0600\n",
            "Epoch 20/75\n",
            "6/6 [==============================] - 0s 29ms/step - loss: 0.0097 - mae: 0.0668\n",
            "Epoch 21/75\n",
            "6/6 [==============================] - 0s 28ms/step - loss: 0.0068 - mae: 0.0546\n",
            "Epoch 22/75\n",
            "6/6 [==============================] - 0s 33ms/step - loss: 0.0082 - mae: 0.0627\n",
            "Epoch 23/75\n",
            "6/6 [==============================] - 0s 20ms/step - loss: 0.0068 - mae: 0.0530\n",
            "Epoch 24/75\n",
            "6/6 [==============================] - 0s 22ms/step - loss: 0.0073 - mae: 0.0556\n",
            "Epoch 25/75\n",
            "6/6 [==============================] - 0s 21ms/step - loss: 0.0080 - mae: 0.0594\n",
            "Epoch 26/75\n",
            "6/6 [==============================] - 0s 39ms/step - loss: 0.0072 - mae: 0.0583\n",
            "Epoch 27/75\n",
            "6/6 [==============================] - 0s 23ms/step - loss: 0.0074 - mae: 0.0598\n",
            "Epoch 28/75\n",
            "6/6 [==============================] - 0s 21ms/step - loss: 0.0101 - mae: 0.0694\n",
            "Epoch 29/75\n",
            "6/6 [==============================] - 0s 22ms/step - loss: 0.0066 - mae: 0.0546\n",
            "Epoch 30/75\n",
            "6/6 [==============================] - 0s 26ms/step - loss: 0.0063 - mae: 0.0523\n",
            "Epoch 31/75\n",
            "6/6 [==============================] - 0s 19ms/step - loss: 0.0072 - mae: 0.0573\n",
            "Epoch 32/75\n",
            "6/6 [==============================] - 0s 19ms/step - loss: 0.0059 - mae: 0.0520\n",
            "Epoch 33/75\n",
            "6/6 [==============================] - 0s 39ms/step - loss: 0.0087 - mae: 0.0647\n",
            "Epoch 34/75\n",
            "6/6 [==============================] - 0s 23ms/step - loss: 0.0060 - mae: 0.0518\n",
            "Epoch 35/75\n",
            "6/6 [==============================] - 0s 33ms/step - loss: 0.0070 - mae: 0.0575\n",
            "Epoch 36/75\n",
            "6/6 [==============================] - 0s 27ms/step - loss: 0.0061 - mae: 0.0524\n",
            "Epoch 37/75\n",
            "6/6 [==============================] - 0s 17ms/step - loss: 0.0061 - mae: 0.0525\n",
            "Epoch 38/75\n",
            "6/6 [==============================] - 0s 21ms/step - loss: 0.0062 - mae: 0.0519\n",
            "Epoch 39/75\n",
            "6/6 [==============================] - 0s 30ms/step - loss: 0.0068 - mae: 0.0572\n",
            "Epoch 40/75\n",
            "6/6 [==============================] - 0s 22ms/step - loss: 0.0055 - mae: 0.0499\n",
            "Epoch 41/75\n",
            "6/6 [==============================] - 0s 21ms/step - loss: 0.0061 - mae: 0.0518\n",
            "Epoch 42/75\n",
            "6/6 [==============================] - 0s 23ms/step - loss: 0.0069 - mae: 0.0537\n",
            "Epoch 43/75\n",
            "6/6 [==============================] - 0s 22ms/step - loss: 0.0056 - mae: 0.0508\n",
            "Epoch 44/75\n",
            "6/6 [==============================] - 0s 19ms/step - loss: 0.0060 - mae: 0.0504\n",
            "Epoch 45/75\n",
            "6/6 [==============================] - 0s 13ms/step - loss: 0.0056 - mae: 0.0503\n",
            "Epoch 46/75\n",
            "6/6 [==============================] - 0s 11ms/step - loss: 0.0057 - mae: 0.0498\n",
            "Epoch 47/75\n",
            "6/6 [==============================] - 0s 11ms/step - loss: 0.0063 - mae: 0.0525\n",
            "Epoch 48/75\n",
            "6/6 [==============================] - 0s 11ms/step - loss: 0.0072 - mae: 0.0594\n",
            "Epoch 49/75\n",
            "6/6 [==============================] - 0s 13ms/step - loss: 0.0064 - mae: 0.0543\n",
            "Epoch 50/75\n",
            "6/6 [==============================] - 0s 18ms/step - loss: 0.0067 - mae: 0.0555\n",
            "Epoch 51/75\n",
            "6/6 [==============================] - 0s 17ms/step - loss: 0.0073 - mae: 0.0600\n",
            "Epoch 52/75\n",
            "6/6 [==============================] - 0s 20ms/step - loss: 0.0055 - mae: 0.0496\n",
            "Epoch 53/75\n",
            "6/6 [==============================] - 0s 22ms/step - loss: 0.0061 - mae: 0.0517\n",
            "Epoch 54/75\n",
            "6/6 [==============================] - 0s 18ms/step - loss: 0.0064 - mae: 0.0525\n",
            "Epoch 55/75\n",
            "6/6 [==============================] - 0s 17ms/step - loss: 0.0062 - mae: 0.0548\n",
            "Epoch 56/75\n",
            "6/6 [==============================] - 0s 16ms/step - loss: 0.0058 - mae: 0.0504\n",
            "Epoch 57/75\n",
            "6/6 [==============================] - 0s 16ms/step - loss: 0.0061 - mae: 0.0513\n",
            "Epoch 58/75\n",
            "6/6 [==============================] - 0s 19ms/step - loss: 0.0072 - mae: 0.0572\n",
            "Epoch 59/75\n",
            "6/6 [==============================] - 0s 18ms/step - loss: 0.0047 - mae: 0.0469\n",
            "Epoch 60/75\n",
            "6/6 [==============================] - 0s 17ms/step - loss: 0.0060 - mae: 0.0521\n",
            "Epoch 61/75\n",
            "6/6 [==============================] - 0s 17ms/step - loss: 0.0052 - mae: 0.0461\n",
            "Epoch 62/75\n",
            "6/6 [==============================] - 0s 18ms/step - loss: 0.0057 - mae: 0.0488\n",
            "Epoch 63/75\n",
            "6/6 [==============================] - 0s 19ms/step - loss: 0.0057 - mae: 0.0502\n",
            "Epoch 64/75\n",
            "6/6 [==============================] - 0s 13ms/step - loss: 0.0050 - mae: 0.0470\n",
            "Epoch 65/75\n",
            "6/6 [==============================] - 0s 12ms/step - loss: 0.0046 - mae: 0.0445\n",
            "Epoch 66/75\n",
            "6/6 [==============================] - 0s 12ms/step - loss: 0.0056 - mae: 0.0513\n",
            "Epoch 67/75\n",
            "6/6 [==============================] - 0s 12ms/step - loss: 0.0042 - mae: 0.0416\n",
            "Epoch 68/75\n",
            "6/6 [==============================] - 0s 11ms/step - loss: 0.0054 - mae: 0.0488\n",
            "Epoch 69/75\n",
            "6/6 [==============================] - 0s 16ms/step - loss: 0.0045 - mae: 0.0438\n",
            "Epoch 70/75\n",
            "6/6 [==============================] - 0s 12ms/step - loss: 0.0055 - mae: 0.0487\n",
            "Epoch 71/75\n",
            "6/6 [==============================] - 0s 12ms/step - loss: 0.0048 - mae: 0.0440\n",
            "Epoch 72/75\n",
            "6/6 [==============================] - 0s 13ms/step - loss: 0.0047 - mae: 0.0453\n",
            "Epoch 73/75\n",
            "6/6 [==============================] - 0s 12ms/step - loss: 0.0046 - mae: 0.0443\n",
            "Epoch 74/75\n",
            "6/6 [==============================] - 0s 14ms/step - loss: 0.0045 - mae: 0.0434\n",
            "Epoch 75/75\n",
            "6/6 [==============================] - 0s 15ms/step - loss: 0.0048 - mae: 0.0440\n"
          ]
        },
        {
          "output_type": "execute_result",
          "data": {
            "text/plain": [
              "<keras.callbacks.History at 0x7f1cdb7806a0>"
            ]
          },
          "metadata": {},
          "execution_count": 21
        }
      ]
    },
    {
      "cell_type": "code",
      "source": [
        "# loss_per_epoch = model.history.history['loss'] retrieves the training loss values from the dictionary and stores them in the loss_per_epoch variable.\n",
        "# The code plt.plot(range(len(loss_per_epoch)),loss_per_epoch) uses the matplotlib library to plot the training loss values against the number of epochs. \n",
        "# The range(len(loss_per_epoch)) generates a sequence of numbers that correspond to the epochs, and loss_per_epoch provides the loss values at each epoch. \n",
        "# The resulting plot shows the trend of the training loss over the epochs.\n",
        "loss_per_epoch = model.history.history['loss']\n",
        "plt.plot(range(len(loss_per_epoch)),loss_per_epoch)\n",
        "plt.xlabel('Number of Epochs')\n",
        "plt.ylabel('Loss')\n",
        "plt.title('Loss Per Epoch')\n",
        "plt.show()"
      ],
      "metadata": {
        "colab": {
          "base_uri": "https://localhost:8080/",
          "height": 472
        },
        "id": "vt0kIOC35IpN",
        "outputId": "1cad8a94-7f01-4dfc-8d35-cc0cc0b9bc69"
      },
      "execution_count": 22,
      "outputs": [
        {
          "output_type": "display_data",
          "data": {
            "text/plain": [
              "<Figure size 640x480 with 1 Axes>"
            ],
            "image/png": "[encoded data removed]"
          },
          "metadata": {}
        }
      ]
    },
    {
      "cell_type": "code",
      "source": [
        "# Preparing the last 12 months of the training set for prediction\n",
        "last_train_batch = scaled_train[-n_input:]\n",
        "last_train_batch = last_train_batch.reshape((1, n_input, n_features))\n",
        "\n",
        "# Making predictions for the next 12 months using the trained LSTM model\n",
        "predictions = []\n",
        "for i in range(12):\n",
        "    prediction = model.predict(last_train_batch)[0]\n",
        "    predictions.append(prediction)\n",
        "    last_train_batch = np.append(last_train_batch[:,1:,:], [[prediction]], axis=1)"
      ],
      "metadata": {
        "colab": {
          "base_uri": "https://localhost:8080/"
        },
        "id": "k6RTZ1ER5R_0",
        "outputId": "7ed58c46-a060-4354-fb76-a0d6d56592a4"
      },
      "execution_count": 23,
      "outputs": [
        {
          "output_type": "stream",
          "name": "stdout",
          "text": [
            "1/1 [==============================] - 0s 265ms/step\n",
            "1/1 [==============================] - 0s 26ms/step\n",
            "1/1 [==============================] - 0s 28ms/step\n",
            "1/1 [==============================] - 0s 28ms/step\n",
            "1/1 [==============================] - 0s 25ms/step\n",
            "1/1 [==============================] - 0s 30ms/step\n",
            "1/1 [==============================] - 0s 23ms/step\n",
            "1/1 [==============================] - 0s 25ms/step\n",
            "1/1 [==============================] - 0s 23ms/step\n",
            "1/1 [==============================] - 0s 24ms/step\n",
            "1/1 [==============================] - 0s 25ms/step\n",
            "1/1 [==============================] - 0s 25ms/step\n"
          ]
        }
      ]
    },
    {
      "cell_type": "code",
      "source": [
        "# Applying inverse transform the predictions to get the predicted stock prices in their original scale\n",
        "predictions = scaler.inverse_transform(predictions)"
      ],
      "metadata": {
        "id": "Rt1sgmn35zxe"
      },
      "execution_count": 24,
      "outputs": []
    },
    {
      "cell_type": "code",
      "source": [
        "print(predictions)"
      ],
      "metadata": {
        "colab": {
          "base_uri": "https://localhost:8080/"
        },
        "id": "lX2iRNAj54b2",
        "outputId": "e025501c-8f8c-4a6e-d60e-1b4771627752"
      },
      "execution_count": 25,
      "outputs": [
        {
          "output_type": "stream",
          "name": "stdout",
          "text": [
            "[[14.75776191]\n",
            " [14.85065129]\n",
            " [14.9190783 ]\n",
            " [14.97025764]\n",
            " [14.99139448]\n",
            " [15.00231049]\n",
            " [15.00841669]\n",
            " [15.00858578]\n",
            " [14.9950582 ]\n",
            " [14.98464948]\n",
            " [14.97540564]\n",
            " [14.96691332]]\n"
          ]
        }
      ]
    },
    {
      "cell_type": "code",
      "source": [
        "# creating a new variable last_train_batch that stores the last 12 values of the scaled_train array.\n",
        "newlast_train_batch = scaled_train[-12:]"
      ],
      "metadata": {
        "id": "V-boyivF56gQ"
      },
      "execution_count": 26,
      "outputs": []
    },
    {
      "cell_type": "code",
      "source": [
        "# \n",
        "last_train_batch1 = newlast_train_batch.reshape((1, n_input, n_features))"
      ],
      "metadata": {
        "id": "s4lmGztS6Jfs"
      },
      "execution_count": 27,
      "outputs": []
    },
    {
      "cell_type": "code",
      "source": [
        "model.predict(last_train_batch1)"
      ],
      "metadata": {
        "colab": {
          "base_uri": "https://localhost:8080/"
        },
        "id": "HGjMDtQw6Oay",
        "outputId": "a04ef729-896f-433e-8ae0-aa40ae069f0b"
      },
      "execution_count": 28,
      "outputs": [
        {
          "output_type": "stream",
          "name": "stdout",
          "text": [
            "1/1 [==============================] - 0s 30ms/step\n"
          ]
        },
        {
          "output_type": "execute_result",
          "data": {
            "text/plain": [
              "array([[0.00025326]], dtype=float32)"
            ]
          },
          "metadata": {},
          "execution_count": 28
        }
      ]
    },
    {
      "cell_type": "code",
      "source": [
        "test_predictions = []\n",
        "\n",
        "first_eval_batch = scaled_train[-n_input:]\n",
        "current_batch = first_eval_batch.reshape((1, n_input, n_features))\n",
        "# The loop iterates over the length of the test dataset. In each iteration:\n",
        "for i in range(len(test)):\n",
        "    \n",
        "    # current_pred represents the prediction value obtained by passing the current_batch through the model using the model.predict() method\n",
        "    current_pred = model.predict(current_batch)[0]\n",
        "    \n",
        "    # The current_pred is then appended to the test_predictions list\n",
        "    test_predictions.append(current_pred) \n",
        "    \n",
        "    # current_batch is updated by removing the first value and adding the current_pred at the end\n",
        "    current_batch = np.append(current_batch[:,1:,:],[[current_pred]],axis=1)"
      ],
      "metadata": {
        "colab": {
          "base_uri": "https://localhost:8080/"
        },
        "id": "jjXWWTTu6SB7",
        "outputId": "afaf8bac-1708-4c94-c645-d9035baa9eed"
      },
      "execution_count": 29,
      "outputs": [
        {
          "output_type": "stream",
          "name": "stdout",
          "text": [
            "1/1 [==============================] - 0s 25ms/step\n",
            "1/1 [==============================] - 0s 24ms/step\n",
            "1/1 [==============================] - 0s 42ms/step\n",
            "1/1 [==============================] - 0s 28ms/step\n",
            "1/1 [==============================] - 0s 33ms/step\n",
            "1/1 [==============================] - 0s 25ms/step\n",
            "1/1 [==============================] - 0s 24ms/step\n",
            "1/1 [==============================] - 0s 28ms/step\n",
            "1/1 [==============================] - 0s 24ms/step\n",
            "1/1 [==============================] - 0s 29ms/step\n",
            "1/1 [==============================] - 0s 27ms/step\n",
            "1/1 [==============================] - 0s 32ms/step\n",
            "1/1 [==============================] - 0s 24ms/step\n",
            "1/1 [==============================] - 0s 29ms/step\n"
          ]
        }
      ]
    },
    {
      "cell_type": "code",
      "source": [
        "print(test_predictions)"
      ],
      "metadata": {
        "colab": {
          "base_uri": "https://localhost:8080/"
        },
        "id": "q-NNIZw76fYp",
        "outputId": "41918ff8-ccb9-4d54-a917-2ea280db4f75"
      },
      "execution_count": 30,
      "outputs": [
        {
          "output_type": "stream",
          "name": "stdout",
          "text": [
            "[array([0.00025326], dtype=float32), array([0.00025786], dtype=float32), array([0.00026126], dtype=float32), array([0.00026379], dtype=float32), array([0.00026484], dtype=float32), array([0.00026538], dtype=float32), array([0.00026568], dtype=float32), array([0.00026569], dtype=float32), array([0.00026502], dtype=float32), array([0.00026451], dtype=float32), array([0.00026405], dtype=float32), array([0.00026363], dtype=float32), array([0.00026332], dtype=float32), array([0.0002633], dtype=float32)]\n"
          ]
        }
      ]
    },
    {
      "cell_type": "code",
      "source": [
        "true_predictions = scaler.inverse_transform(test_predictions)"
      ],
      "metadata": {
        "id": "bUK5OhG_6kW7"
      },
      "execution_count": 31,
      "outputs": []
    },
    {
      "cell_type": "code",
      "source": [
        "print(true_predictions)"
      ],
      "metadata": {
        "colab": {
          "base_uri": "https://localhost:8080/"
        },
        "id": "wQAlCSSs8Cbd",
        "outputId": "3174f8c1-e8cc-4213-89ab-95ba7b9d7d94"
      },
      "execution_count": 32,
      "outputs": [
        {
          "output_type": "stream",
          "name": "stdout",
          "text": [
            "[[14.75776191]\n",
            " [14.85065129]\n",
            " [14.9190783 ]\n",
            " [14.97025764]\n",
            " [14.99139448]\n",
            " [15.00231049]\n",
            " [15.00841669]\n",
            " [15.00858578]\n",
            " [14.9950582 ]\n",
            " [14.98464948]\n",
            " [14.97540564]\n",
            " [14.96691332]\n",
            " [14.96063803]\n",
            " [14.96026226]]\n"
          ]
        }
      ]
    },
    {
      "cell_type": "code",
      "source": [
        "true_predictions.shape"
      ],
      "metadata": {
        "colab": {
          "base_uri": "https://localhost:8080/"
        },
        "id": "sBEqZJ8M8SDp",
        "outputId": "7d52b3b4-c7e8-460b-9804-1a0494f3de2b"
      },
      "execution_count": 36,
      "outputs": [
        {
          "output_type": "execute_result",
          "data": {
            "text/plain": [
              "(14, 1)"
            ]
          },
          "metadata": {},
          "execution_count": 36
        }
      ]
    },
    {
      "cell_type": "code",
      "source": [
        "test.shape"
      ],
      "metadata": {
        "colab": {
          "base_uri": "https://localhost:8080/"
        },
        "id": "P51vX8wcYEp2",
        "outputId": "c4f57b8f-aade-448c-b210-75a8719f7a01"
      },
      "execution_count": 37,
      "outputs": [
        {
          "output_type": "execute_result",
          "data": {
            "text/plain": [
              "(14, 1)"
            ]
          },
          "metadata": {},
          "execution_count": 37
        }
      ]
    },
    {
      "cell_type": "code",
      "source": [
        "# Calculating the evaluation metrics\n",
        "mse = np.mean((true_predictions - test) ** 2)\n",
        "mae = np.mean(np.abs(true_predictions - test))\n",
        "\n",
        "print(\"Mean Squared Error:\", mse)\n",
        "print(\"Mean Absolute Error:\", mae)"
      ],
      "metadata": {
        "colab": {
          "base_uri": "https://localhost:8080/"
        },
        "id": "_nn8mgBvYHb7",
        "outputId": "63620fb1-5354-4582-d5e1-56e088de4161"
      },
      "execution_count": 38,
      "outputs": [
        {
          "output_type": "stream",
          "name": "stdout",
          "text": [
            "Mean Squared Error: Close    28.78937\n",
            "dtype: float64\n",
            "Mean Absolute Error: Close    5.142869\n",
            "dtype: float64\n"
          ]
        }
      ]
    },
    {
      "cell_type": "code",
      "source": [
        "# Calculating R2 score\n",
        "from sklearn.metrics import r2_score\n",
        "r2 = r2_score(test, true_predictions)\n",
        "print(\"R2 Score:\", r2)"
      ],
      "metadata": {
        "colab": {
          "base_uri": "https://localhost:8080/"
        },
        "id": "bJwZJH5vYTku",
        "outputId": "ef7804c7-f854-47a3-852a-c86e97e42bc7"
      },
      "execution_count": 39,
      "outputs": [
        {
          "output_type": "stream",
          "name": "stdout",
          "text": [
            "R2 Score: -11.49890130405688\n"
          ]
        }
      ]
    },
    {
      "cell_type": "markdown",
      "source": [
        "The MSE for the predicted close prices is 28.78937. The MSE measures the average squared difference between the predicted and actual values. A lower MSE indicates better accuracy and closeness of the predictions to the actual values. However, the interpretation of MSE values can vary depending on the scale of the data. It is important to compare the MSE to the range of the data to assess its magnitude.\n",
        "\n",
        "The MAE for the predicted close prices is 5.142869. The MAE represents the average absolute difference between the predicted and actual values. Like MSE, a lower MAE suggests better accuracy. MAE is easier to interpret than MSE as it is in the same unit as the original data.\n",
        "\n",
        "However, the R2 score is a statistical measure that indicates the proportion of the variance in the dependent variable (close prices) that can be explained by the independent variable (predictions). An R2 score of -11.49890130405688 indicates that the predictions do not explain the variance in the close prices well and are performing poorly. A negative R2 score suggests that the model's predictions are worse than simply using the mean of the dependent variable. It indicates a poor fit of the model to the data.\n",
        "\n",
        "Overall, based on these evaluation metrics, it appears that the predictions made by the model are not accurate and do not capture the patterns in the close prices effectively. Further analysis and improvement of the model may be necessary to achieve better results. *italicized text*"
      ],
      "metadata": {
        "id": "aKyNHXwab7gT"
      }
    },
    {
      "cell_type": "code",
      "source": [
        "print(test)"
      ],
      "metadata": {
        "colab": {
          "base_uri": "https://localhost:8080/"
        },
        "id": "QTQL0xUmYd_G",
        "outputId": "fdf65ff7-bc0a-40ba-a11a-9180446efc8a"
      },
      "execution_count": 40,
      "outputs": [
        {
          "output_type": "stream",
          "name": "stdout",
          "text": [
            "                Close\n",
            "Date                 \n",
            "2021-11-01  10.897182\n",
            "2021-12-01   9.827619\n",
            "2022-01-01  11.727810\n",
            "2022-02-01  12.210200\n",
            "2022-03-01  10.241870\n",
            "2022-04-01  11.681111\n",
            "2022-05-01  10.960850\n",
            "2022-06-01   9.582333\n",
            "2022-07-01   9.118667\n",
            "2022-08-01   9.509087\n",
            "2022-09-01   7.327000\n",
            "2022-10-01   7.308667\n",
            "2022-11-01   8.602818\n",
            "2022-12-01   8.356000\n"
          ]
        }
      ]
    },
    {
      "cell_type": "code",
      "source": [
        "# Create a copy of the test data\n",
        "test_with_predictions = test.copy()\n",
        "\n",
        "# Adding the predicted values to the test data\n",
        "test_with_predictions['Predicted'] = true_predictions"
      ],
      "metadata": {
        "id": "1j5worteaMRI"
      },
      "execution_count": 45,
      "outputs": []
    },
    {
      "cell_type": "code",
      "source": [
        "test_with_predictions.head()"
      ],
      "metadata": {
        "colab": {
          "base_uri": "https://localhost:8080/",
          "height": 237
        },
        "id": "LlyHUphVa2Iq",
        "outputId": "51007f10-1c8a-4a0f-8a1b-93153d9b9458"
      },
      "execution_count": 46,
      "outputs": [
        {
          "output_type": "execute_result",
          "data": {
            "text/plain": [
              "                Close  Predicted\n",
              "Date                            \n",
              "2021-11-01  10.897182  14.757762\n",
              "2021-12-01   9.827619  14.850651\n",
              "2022-01-01  11.727810  14.919078\n",
              "2022-02-01  12.210200  14.970258\n",
              "2022-03-01  10.241870  14.991394"
            ],
            "text/html": [
              "\n",
              "  <div id=\"df-76e6a78d-ea13-40cc-826f-dfbfdc535c6f\">\n",
              "    <div class=\"colab-df-container\">\n",
              "      <div>\n",
              "<style scoped>\n",
              "    .dataframe tbody tr th:only-of-type {\n",
              "        vertical-align: middle;\n",
              "    }\n",
              "\n",
              "    .dataframe tbody tr th {\n",
              "        vertical-align: top;\n",
              "    }\n",
              "\n",
              "    .dataframe thead th {\n",
              "        text-align: right;\n",
              "    }\n",
              "</style>\n",
              "<table border=\"1\" class=\"dataframe\">\n",
              "  <thead>\n",
              "    <tr style=\"text-align: right;\">\n",
              "      <th></th>\n",
              "      <th>Close</th>\n",
              "      <th>Predicted</th>\n",
              "    </tr>\n",
              "    <tr>\n",
              "      <th>Date</th>\n",
              "      <th></th>\n",
              "      <th></th>\n",
              "    </tr>\n",
              "  </thead>\n",
              "  <tbody>\n",
              "    <tr>\n",
              "      <th>2021-11-01</th>\n",
              "      <td>10.897182</td>\n",
              "      <td>14.757762</td>\n",
              "    </tr>\n",
              "    <tr>\n",
              "      <th>2021-12-01</th>\n",
              "      <td>9.827619</td>\n",
              "      <td>14.850651</td>\n",
              "    </tr>\n",
              "    <tr>\n",
              "      <th>2022-01-01</th>\n",
              "      <td>11.727810</td>\n",
              "      <td>14.919078</td>\n",
              "    </tr>\n",
              "    <tr>\n",
              "      <th>2022-02-01</th>\n",
              "      <td>12.210200</td>\n",
              "      <td>14.970258</td>\n",
              "    </tr>\n",
              "    <tr>\n",
              "      <th>2022-03-01</th>\n",
              "      <td>10.241870</td>\n",
              "      <td>14.991394</td>\n",
              "    </tr>\n",
              "  </tbody>\n",
              "</table>\n",
              "</div>\n",
              "      <button class=\"colab-df-convert\" onclick=\"convertToInteractive('df-76e6a78d-ea13-40cc-826f-dfbfdc535c6f')\"\n",
              "              title=\"Convert this dataframe to an interactive table.\"\n",
              "              style=\"display:none;\">\n",
              "        \n",
              "  <svg xmlns=\"http://www.w3.org/2000/svg\" height=\"24px\"viewBox=\"0 0 24 24\"\n",
              "       width=\"24px\">\n",
              "    <path d=\"M0 0h24v24H0V0z\" fill=\"none\"/>\n",
              "    <path d=\"M18.56 5.44l.94 2.06.94-2.06 2.06-.94-2.06-.94-.94-2.06-.94 2.06-2.06.94zm-11 1L8.5 8.5l.94-2.06 2.06-.94-2.06-.94L8.5 2.5l-.94 2.06-2.06.94zm10 10l.94 2.06.94-2.06 2.06-.94-2.06-.94-.94-2.06-.94 2.06-2.06.94z\"/><path d=\"M17.41 7.96l-1.37-1.37c-.4-.4-.92-.59-1.43-.59-.52 0-1.04.2-1.43.59L10.3 9.45l-7.72 7.72c-.78.78-.78 2.05 0 2.83L4 21.41c.39.39.9.59 1.41.59.51 0 1.02-.2 1.41-.59l7.78-7.78 2.81-2.81c.8-.78.8-2.07 0-2.86zM5.41 20L4 18.59l7.72-7.72 1.47 1.35L5.41 20z\"/>\n",
              "  </svg>\n",
              "      </button>\n",
              "      \n",
              "  <style>\n",
              "    .colab-df-container {\n",
              "      display:flex;\n",
              "      flex-wrap:wrap;\n",
              "      gap: 12px;\n",
              "    }\n",
              "\n",
              "    .colab-df-convert {\n",
              "      background-color: #E8F0FE;\n",
              "      border: none;\n",
              "      border-radius: 50%;\n",
              "      cursor: pointer;\n",
              "      display: none;\n",
              "      fill: #1967D2;\n",
              "      height: 32px;\n",
              "      padding: 0 0 0 0;\n",
              "      width: 32px;\n",
              "    }\n",
              "\n",
              "    .colab-df-convert:hover {\n",
              "      background-color: #E2EBFA;\n",
              "      box-shadow: 0px 1px 2px rgba(60, 64, 67, 0.3), 0px 1px 3px 1px rgba(60, 64, 67, 0.15);\n",
              "      fill: #174EA6;\n",
              "    }\n",
              "\n",
              "    [theme=dark] .colab-df-convert {\n",
              "      background-color: #3B4455;\n",
              "      fill: #D2E3FC;\n",
              "    }\n",
              "\n",
              "    [theme=dark] .colab-df-convert:hover {\n",
              "      background-color: #434B5C;\n",
              "      box-shadow: 0px 1px 3px 1px rgba(0, 0, 0, 0.15);\n",
              "      filter: drop-shadow(0px 1px 2px rgba(0, 0, 0, 0.3));\n",
              "      fill: #FFFFFF;\n",
              "    }\n",
              "  </style>\n",
              "\n",
              "      <script>\n",
              "        const buttonEl =\n",
              "          document.querySelector('#df-76e6a78d-ea13-40cc-826f-dfbfdc535c6f button.colab-df-convert');\n",
              "        buttonEl.style.display =\n",
              "          google.colab.kernel.accessAllowed ? 'block' : 'none';\n",
              "\n",
              "        async function convertToInteractive(key) {\n",
              "          const element = document.querySelector('#df-76e6a78d-ea13-40cc-826f-dfbfdc535c6f');\n",
              "          const dataTable =\n",
              "            await google.colab.kernel.invokeFunction('convertToInteractive',\n",
              "                                                     [key], {});\n",
              "          if (!dataTable) return;\n",
              "\n",
              "          const docLinkHtml = 'Like what you see? Visit the ' +\n",
              "            '<a target=\"_blank\" href=https://colab.research.google.com/notebooks/data_table.ipynb>data table notebook</a>'\n",
              "            + ' to learn more about interactive tables.';\n",
              "          element.innerHTML = '';\n",
              "          dataTable['output_type'] = 'display_data';\n",
              "          await google.colab.output.renderOutput(dataTable, element);\n",
              "          const docLink = document.createElement('div');\n",
              "          docLink.innerHTML = docLinkHtml;\n",
              "          element.appendChild(docLink);\n",
              "        }\n",
              "      </script>\n",
              "    </div>\n",
              "  </div>\n",
              "  "
            ]
          },
          "metadata": {},
          "execution_count": 46
        }
      ]
    },
    {
      "cell_type": "code",
      "source": [
        "# plotting the graph of predicted and actual data\n",
        "test_with_predictions.plot(figsize=(14,5))"
      ],
      "metadata": {
        "colab": {
          "base_uri": "https://localhost:8080/",
          "height": 498
        },
        "id": "gEalrdtGa4yu",
        "outputId": "3c39e2e1-d446-4368-e2c9-ebda628cb67d"
      },
      "execution_count": 47,
      "outputs": [
        {
          "output_type": "execute_result",
          "data": {
            "text/plain": [
              "<Axes: xlabel='Date'>"
            ]
          },
          "metadata": {},
          "execution_count": 47
        },
        {
          "output_type": "display_data",
          "data": {
            "text/plain": [
              "<Figure size 1400x500 with 1 Axes>"
            ],
            "image/png": "[encoded data removed]"
          },
          "metadata": {}
        }
      ]
    },
    {
      "cell_type": "code",
      "source": [],
      "metadata": {
        "id": "F2en6CdWbCuH"
      },
      "execution_count": null,
      "outputs": []
    }
  ]
}